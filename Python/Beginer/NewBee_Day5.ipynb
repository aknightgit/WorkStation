{
 "cells": [
  {
   "cell_type": "code",
   "execution_count": 31,
   "metadata": {
    "collapsed": true,
    "pycharm": {
     "is_executing": false
    }
   },
   "outputs": [
    {
     "name": "stdout",
     "text": [
      "Game Start as: ['Car', 'Goat', 'Goat']\n[]\n[] 0\n"
     ],
     "output_type": "stream"
    }
   ],
   "source": [
    "# from random import shuffle\n",
    "import random           #import了整个random就不需要单独上面引入一个module\n",
    "\n",
    "class goatCarDoor(object):\n",
    "    door = []              \n",
    "    def gamestart(self):\n",
    "        door = ['Goat','Goat','Car']\n",
    "        shuffle(door)           #Shuffle用了随机一个list\n",
    "        print('Game Start as:',door)\n",
    "        return(door)                      \n",
    "    \n",
    "    def choose(self):\n",
    "        seq = random.randint(0, 2)\n",
    "        print(self.door,seq)\n",
    "        # print('element %d choosed, which is %s.' %(seq+1,self.door[seq]))\n",
    " \n",
    "\n",
    "game = goatCarDoor()\n",
    "game.gamestart()       #开始游戏\n",
    "# print(dir(game))\n",
    "print(game.door)\n",
    "game.choose()"
   ]
  }
 ],
 "metadata": {
  "kernelspec": {
   "display_name": "Python 3",
   "language": "python",
   "name": "python3"
  },
  "language_info": {
   "codemirror_mode": {
    "name": "ipython",
    "version": 2
   },
   "file_extension": ".py",
   "mimetype": "text/x-python",
   "name": "python",
   "nbconvert_exporter": "python",
   "pygments_lexer": "ipython2",
   "version": "2.7.6"
  },
  "pycharm": {
   "stem_cell": {
    "cell_type": "raw",
    "source": [],
    "metadata": {
     "collapsed": false
    }
   }
  }
 },
 "nbformat": 4,
 "nbformat_minor": 0
}