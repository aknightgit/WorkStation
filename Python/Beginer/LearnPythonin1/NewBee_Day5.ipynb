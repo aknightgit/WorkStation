{
 "cells": [
  {
   "cell_type": "code",
   "execution_count": 6,
   "metadata": {
    "collapsed": true
   },
   "outputs": [
    {
     "name": "stdout",
     "output_type": "stream",
     "text": [
      "Game Start as: ['Goat', 'Goat', 'Car']\n",
      "You choose number  3 which is a  Car\n"
     ]
    }
   ],
   "source": [
    "from random import shuffle\n",
    "import random           #import了整个random就不需要单独上面引入一个module\n",
    "\n",
    "class goatCarDoor(object):\n",
    "    door = []              \n",
    "    def gamestart(self):\n",
    "        self.door = ['Goat','Goat','Car']\n",
    "        shuffle(self.door)           #Shuffle用了随机一个list\n",
    "        print('Game Start as:',self.door)\n",
    "        return(self.door)\n",
    "    \n",
    "    def firstchoice(self):\n",
    "        seq = random.randint(1, 3)\n",
    "        print('You choose number',seq,'which is a',self.door[seq-1])\n",
    "        print('Do you want to change your option')\n",
    "        # print('element %d choosed, which is %s.' %(seq+1,self.door[seq]))\n",
    "    \n",
    "    def changeoption(self,swicth='yes'):\n",
    "        if self.swicth=='yes': \n",
    "        \n",
    "\n",
    "game = goatCarDoor()\n",
    "game.gamestart()       #开始游戏\n",
    "# print(dir(game))\n",
    "#print(game.door)\n",
    "game.choose()"
   ]
  }
 ],
 "metadata": {
  "kernelspec": {
   "display_name": "Python 3",
   "language": "python",
   "name": "python3"
  },
  "language_info": {
   "codemirror_mode": {
    "name": "ipython",
    "version": 2
   },
   "file_extension": ".py",
   "mimetype": "text/x-python",
   "name": "python",
   "nbconvert_exporter": "python",
   "pygments_lexer": "ipython2",
   "version": "2.7.6"
  }
 },
 "nbformat": 4,
 "nbformat_minor": 0
}