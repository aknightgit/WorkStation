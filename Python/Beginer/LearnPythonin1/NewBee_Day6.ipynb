{
 "cells": [
  {
   "cell_type": "code",
   "execution_count": 1,
   "metadata": {
    "collapsed": true,
    "pycharm": {
     "name": "#%% 关于函数传参\n",
     "is_executing": false
    }
   },
   "outputs": [
    {
     "name": "stdout",
     "text": [
      "9\n12\n47\n11\n25\n6\n3\n"
     ],
     "output_type": "stream"
    }
   ],
   "source": [
    "def afun(a,b,c=5):          #可以设置默认值\n",
    "    print(a*b+c)\n",
    "    \n",
    "afun(1,4,5)\n",
    "afun(3,b=2,c=6)             #关键字传递，除了前面的顺序，关键字顺序可以变化\n",
    "abc = (7,6)\n",
    "afun(*abc)                  #包裹传递， 可用于动态变量数传递；\n",
    "\n",
    "afun(2,3)                   #默认值起作用\n",
    "afun(a=5,b=4)\n",
    "\n",
    "def counttuple(*tup):       #参数可变的情况，用包裹传递\n",
    "    return(len(tup))\n",
    "\n",
    "t = (1,4,5,6,7,7)\n",
    "print(counttuple(*t))\n",
    "\n",
    "def lendict(**dd):          # **传递dict\n",
    "    return(len(dd))\n",
    "\n",
    "mydd = {'ww':11,'ee':22,'5':33}         #len kewwords must be strings\n",
    "print(lendict(**mydd))\n",
    "\n"
   ]
  },
  {
   "cell_type": "code",
   "execution_count": 4,
   "outputs": [
    {
     "name": "stdout",
     "text": [
      "index-> 0\nvalue-> 1\nindex-> 1\nvalue-> 4\nindex-> 2\nvalue-> 5\nindex-> 3\nvalue-> 6\nindex-> 4\nvalue-> 7\nindex-> 5\nvalue-> 7\nindex-> 0\nvalue-> ww\nindex-> 1\nvalue-> ee\nindex-> 2\nvalue-> 5\n<class 'zip'>\na+b:1+2= 3\na+b:3+4= 7\na+b:5+6= 11\na+b:7+8= 15\na+b:1*2= 2\na+b:3*4= 12\na+b:5*6= 30\na+b:7*8= 56\n"
     ],
     "output_type": "stream"
    }
   ],
   "source": [
    "for (index,value) in enumerate(t):          #返回下标 及value     \n",
    "    print('index->',index)\n",
    "    print('value->',value)\n",
    "for (index,value) in enumerate(mydd):       #返回下标 及key值\n",
    "    print('index->',index)\n",
    "    print('value->',value)\n",
    "\n",
    "\n",
    "a = [1,3,5,7]\n",
    "b = [2,4,6,8]\n",
    "# (zipa,zipb) = zip(a,b)            #zip也是枚举器，看来需要配合 for in一起用\n",
    "# print(zipa) \n",
    "zipa = zip(a,b)\n",
    "print(type(zipa))                   #居然是个class ZIP\n",
    "for (za,zb) in zip(a,b):\n",
    "    print('a+b:{0}+{1}='.format(za,zb),za+zb)\n",
    "\n",
    "for (za,zb) in zipa:                #zip是个zip，可以for in来枚举\n",
    "    print('a+b:{0}*{1}='.format(za,zb),za*zb) \n",
    "\n",
    "\n"
   ],
   "metadata": {
    "collapsed": false,
    "pycharm": {
     "name": "#%%    zip enumerate\n",
     "is_executing": false
    }
   }
  }
 ],
 "metadata": {
  "kernelspec": {
   "display_name": "Python 3",
   "language": "python",
   "name": "python3"
  },
  "language_info": {
   "codemirror_mode": {
    "name": "ipython",
    "version": 2
   },
   "file_extension": ".py",
   "mimetype": "text/x-python",
   "name": "python",
   "nbconvert_exporter": "python",
   "pygments_lexer": "ipython2",
   "version": "2.7.6"
  },
  "pycharm": {
   "stem_cell": {
    "cell_type": "raw",
    "source": [],
    "metadata": {
     "collapsed": false
    }
   }
  }
 },
 "nbformat": 4,
 "nbformat_minor": 0
}