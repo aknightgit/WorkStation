{
 "cells": [
  {
   "cell_type": "code",
   "execution_count": 6,
   "metadata": {
    "collapsed": true,
    "pycharm": {
     "is_executing": false,
     "name": "#%%     print用法\n"
    }
   },
   "outputs": [
    {
     "traceback": [
      "\u001b[1;36m  File \u001b[1;32m\"<ipython-input-6-14152bd12311>\"\u001b[1;36m, line \u001b[1;32m8\u001b[0m\n\u001b[1;33m    print 'hi'\u001b[0m\n\u001b[1;37m    ^\u001b[0m\n\u001b[1;31mIndentationError\u001b[0m\u001b[1;31m:\u001b[0m unexpected indent\n"
     ],
     "ename": "IndentationError",
     "evalue": "unexpected indent (<ipython-input-6-14152bd12311>, line 8)",
     "output_type": "error"
    }
   ],
   "source": [
    "# Jupyter notebook, 快捷键ctrl+enter直接运行cell\n",
    "print('hello world!')\n",
    "print ('Hello World!!')\n",
    "\n",
    "# 井号为注释符，快捷键 Ctr+/，多行选择同时Ctr+/,则为多行注释\n",
    "# print需要带括号，3.*开始不支持 print 'hello world'\n",
    "# 开头不能有空格，否则报错\n",
    "# <空格>print 'hi'\n"
   ]
  },
  {
   "cell_type": "code",
   "execution_count": 17,
   "outputs": [
    {
     "name": "stdout",
     "text": [
      "20\na\nreplace\n20\n<class 'int'>\n<class 'str'>\nreplace 20 400\n"
     ],
     "output_type": "stream"
    }
   ],
   "source": [
    "a=20        # =号赋值，前后空格没有影响\n",
    "b= 'a'      # 无需设置变量类型，将自动配置类型\n",
    "c = a\n",
    "\n",
    "\n",
    "print(a)\n",
    "print('a')\n",
    "print(b)\n",
    "print(c)\n",
    "print (type(c))         #type()用来返回变量的类型class\n",
    "print(type(b))\n",
    "b =\"replace\"            #双引号也可以\n",
    "print(b,a,c*a)          # 逗号可以让print输出多个值，空格隔开\n"
   ],
   "metadata": {
    "collapsed": false,
    "pycharm": {
     "name": "#%%     赋值、变量类型\n",
     "is_executing": false
    }
   }
  },
  {
   "cell_type": "code",
   "execution_count": 40,
   "outputs": [
    {
     "name": "stdout",
     "text": [
      "(1, 1, 2, 3, 5, 8, 'Fibonacci') <class 'tuple'>\n['this', 'is', 'a', 'list'] <class 'list'> this list\n9 <class 'int'> 72\n(9,) <class 'tuple'> (9, 9, 9, 9, 9, 9, 9, 9)\n['this', 'is'] ['this', 'is', 'a'] ['is', 'a']\n(1, 3, 'Fibonacci')\nh Fib\n"
     ],
     "output_type": "stream"
    }
   ],
   "source": [
    "a = (1,1,2,3,5,8,'Fibonacci')       #tuple 放弃了对元素的增删（内存结构设计上变的更精简），换取的是性能上的提升\n",
    "b = ['this','is','a','list']\n",
    "c = (9)                 #声明单个数组时候，必须加逗号, 否则定义的是单个元素\n",
    "print(a,type(a))        #tuple：元组，不支持del/append元素；性能比list好\n",
    "print(b,type(b),b[0],b[-1])     #索引从0开始，切片-1为最后一个元素\n",
    "print(c,type(c),c*8)\n",
    "c = (9,) \n",
    "print(c,type(c),c*8)    #逗号很重要\n",
    "print(b[:2],b[:-1],b[1:3])  #不包含上限最后一个元素\n",
    "print(a[0:7:3])         #从0到7，每隔3取数，即0,3,6\n",
    "print(b[0][1],a[-1][:3])          #字符串是一个特殊的tuple元组"
   ],
   "metadata": {
    "collapsed": false,
    "pycharm": {
     "name": "#%%     Sequence序列\n",
     "is_executing": false
    }
   }
  },
  {
   "cell_type": "code",
   "source": [
    "print(1==1,2>=1,3<2,4!=4,not 5,'true' and True)    #True保留字，注意大写\n",
    "print(True and False,False or False,False and False,True or False)  #and/or/not, 关键字小写\n",
    "print(True&True,True|False)     #与非符号，注意 True or False是True\n",
    "\n"
   ],
   "metadata": {
    "collapsed": false,
    "pycharm": {
     "name": "#%%        逻辑运算\n",
     "is_executing": false
    }
   },
   "execution_count": 50,
   "outputs": [
    {
     "name": "stdout",
     "text": [
      "True True False False False True\nFalse False False True\nTrue True\n"
     ],
     "output_type": "stream"
    }
   ]
  }
 ],
 "metadata": {
  "kernelspec": {
   "display_name": "Python 3",
   "language": "python",
   "name": "python3"
  },
  "language_info": {
   "codemirror_mode": {
    "name": "ipython",
    "version": 2
   },
   "file_extension": ".py",
   "mimetype": "text/x-python",
   "name": "python",
   "nbconvert_exporter": "python",
   "pygments_lexer": "ipython2",
   "version": "2.7.6"
  },
  "pycharm": {
   "stem_cell": {
    "cell_type": "raw",
    "source": [],
    "metadata": {
     "collapsed": false
    }
   }
  }
 },
 "nbformat": 4,
 "nbformat_minor": 0
}