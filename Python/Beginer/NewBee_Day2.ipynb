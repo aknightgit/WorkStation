{
 "cells": [
  {
   "cell_type": "code",
   "execution_count": 33,
   "metadata": {
    "collapsed": true,
    "pycharm": {
     "name": "#%%     if、缩进、代码块\n",
     "is_executing": false
    }
   },
   "outputs": [
    {
     "name": "stdout",
     "text": [
      "100 is bigger than 2\n2\nwow 不换行也可以！\n4个空格有用\nTAB 也是一样的！\n这样就退出if判断了哦\n"
     ],
     "output_type": "stream"
    }
   ],
   "source": [
    "par1 = 2\n",
    "par2 = 100\n",
    "if par1<par2:           #类似perl的if，无需括号，注意最后冒号！！\n",
    "    print('100 is bigger than 2')       #print必须带括号\n",
    "    (par2,par1)=(par1,par2)             #置换\n",
    "    print(par2)\n",
    "    if 1==1:   print('wow 不换行也可以！')             #类似perl 可以写在一行，无需缩进\n",
    "                                                        #有个空行无所谓呀        \n",
    "    if 2==2:\n",
    "        print('4个空格有用')\n",
    "    if 3==3:\n",
    "        print('TAB 也是一样的！')\n",
    "elif par1>par2: print('this is else if')                #注意 elif! elif| elif!\n",
    "else:\n",
    "    print('if/elif/else')\n",
    "print ('这样就退出if判断了哦')\n",
    "    "
   ]
  },
  {
   "cell_type": "code",
   "execution_count": 1,
   "outputs": [
    {
     "name": "stdout",
     "output_type": "stream",
     "text": [
      "1到100之间的质数\n",
      "1到 100 之间的质数\n",
      "[2, 3, 5, 7, 11, 13, 17, 19, 23, 29, 31, 37, 41, 43, 47, 53, 59, 61, 67, 71, 73, 79, 83, 89, 97]\n"
     ]
    }
   ],
   "source": [
    "#质数： 除了1和本身，没有其他任何因子的正整数\n",
    "max = 100\n",
    "print('1到'+str(max)+'之间的质数')        # str()可以转换int为str\n",
    "print('1到',max,'之间的质数')     ##这样可以不转换类型，但是有空格\n",
    "list_a = []                 #可以定义空的list\n",
    "for i in range(max):        #range(100)， 类似perl中(0..100)\n",
    "    # print(i)              #注意是从0开始，不包括100！\n",
    "    if i<=1: continue       #跳过0,1， continue/break， 对应perl next/last； pass为占位符，不执行任何\n",
    "    is_zs = 1               #\n",
    "    for a in range(i):\n",
    "        if a<=1: continue   #因子不包括1\n",
    "        if i%a==0: \n",
    "            is_zs = 0       #出现因子，则非质数\n",
    "            break           #相当于perl中的last，跳出本层for循环\n",
    "    if is_zs == 1:\n",
    "        list_a.append(i)        #append方法添加list元素\n",
    "print(list_a)\n",
    "    "
   ],
   "metadata": {
    "collapsed": false,
    "pycharm": {
     "name": "#%%     for循环、while\n"
    }
   }
  },
  {
   "cell_type": "code",
   "execution_count": 3,
   "outputs": [
    {
     "name": "stdout",
     "output_type": "stream",
     "text": [
      "本函数返回斐波那契数组前1位的数字:\n"
     ]
    },
    {
     "data": {
      "text/plain": "(list, [1])"
     },
     "execution_count": 3,
     "metadata": {},
     "output_type": "execute_result"
    }
   ],
   "source": [
    "def fibonacci(num):             #可以无参数，但是必须有括号\n",
    "    print('本函数返回斐波那契数组前'+str(num)+'位的数字:')\n",
    "    a = [1,1]\n",
    "    #i = 1\n",
    "    for i in range(num):\n",
    "        if i >=2 : a.append(a[-1]+a[-2])\n",
    "\n",
    "        #i = i + 1               #居然不支持i++ ？！！\n",
    "    # print(a)\n",
    "    return type(a),a[:num]            #可以没有return, return多个元素，则返回一个tuple\n",
    "                                        #考虑num=1的情况，只需要返回a[:1]\n",
    "    print('return之后不执行剩余statement')     #return之后的语句无效\n",
    "fibonacci(1)\n",
    "\n"
   ],
   "metadata": {
    "collapsed": false,
    "pycharm": {
     "name": "#%%     定义一个function\n"
    }
   }
  },
  {
   "cell_type": "code",
   "execution_count": 8,
   "outputs": [
    {
     "name": "stdout",
     "output_type": "stream",
     "text": [
      "Joyce can breathe: True\n",
      "Joyce can speak: False\n",
      "Joyce is: Female\n",
      "After Thailand trip: Joyce becomes Male\n"
     ]
    }
   ],
   "source": [
    "# 类：共同属性以及方法的集合\n",
    "# 对象（object）： 属于某类的一个东西 实体\n",
    "# 方法（method）： 某类，所拥有的动作，对象继承了类的方法\n",
    "class people(object):           #带object，表示没有父类了\n",
    "    can_breath = True           #定义了people类的一些attribute\n",
    "    must_eat = True\n",
    "    can_speak = True\n",
    "    # sex = None\n",
    "    # sex = ('Male','Female')\n",
    "    def change_sex(self):       #定义一个people能做的动作，即方法method\n",
    "        if self.sex == 'Male':    sex = 'Female'    #这里必须加self，作为对对象的引用\n",
    "        if self.sex == 'Female':  sex = 'Male'      #sex在local中未定义，取的object的值\n",
    "        return sex              #需要把新值返回给object\n",
    "\n",
    "Joyce = people()                #定义一个people类的对象Joyce\n",
    "print('Joyce can breathe: '+str(Joyce.can_breath))         #Joyce继承了人类的某些属性和动作\n",
    "Joyce.can_speak = False         #重新定义某些属性的值\n",
    "print('Joyce can speak: '+str(Joyce.can_speak))\n",
    "# print(Joyce.sex)              #未定义的attribute会报错\n",
    "Joyce.sex = 'Female'            #可以给对象添加新的属性\n",
    "print('Joyce is: '+ Joyce.sex)\n",
    "print('After Thailand trip: Joyce becomes '+Joyce.change_sex())       #方法返回的是str\n"
   ],
   "metadata": {
    "collapsed": false,
    "pycharm": {
     "name": "#%%     对象、类、子类、继承\n"
    }
   }
  },
  {
   "cell_type": "code",
   "execution_count": 24,
   "outputs": [
    {
     "name": "stdout",
     "text": [
      "屁屁会走路么： False\n屁屁会说话么： False\n屁屁咋哭啊： wow~~~~~~~\nFemale\n"
     ],
     "output_type": "stream"
    }
   ],
   "source": [
    "# 子类： 将默认继承父类的所有属性和方法\n",
    "class baby(people):             #括号中为父类的名称，如果是object，则无父类\n",
    "    can_speak = False           #覆盖属性\n",
    "    can_walk = False            #新增属性attr\n",
    "    need_milk = True\n",
    "    def cry(self):              #新增method\n",
    "        return 'wow~~~~~~~'\n",
    "\n",
    "Pipi = baby()               #屁屁是个baby， baby继承了people属性\n",
    "print('屁屁会走路么： '+str(Pipi.can_walk))\n",
    "print('屁屁会说话么： '+str(Pipi.can_speak))\n",
    "print('屁屁咋哭啊： '+Pipi.cry())\n",
    "# print(Joyce.cry)          #Joyce并没有子类baby的cry的功能\n",
    "Pipi.sex = 'Male'\n",
    "print(Pipi.change_sex())\n"
   ],
   "metadata": {
    "collapsed": false,
    "pycharm": {
     "name": "#%%  子类\n",
     "is_executing": false
    }
   }
  },
  {
   "cell_type": "code",
   "execution_count": 102,
   "outputs": [
    {
     "name": "stdout",
     "text": [
      "girl\n"
     ],
     "output_type": "stream"
    }
   ],
   "source": [
    "class student(people):\n",
    "    def __init__(self,input_sex):       #__init__会在object被定义的第一时间就运行\n",
    "        self.sex = input_sex            #创建对象时候的参数，将传给__init__中\n",
    "    # print(self.sex)\n",
    "    \n",
    "HanMeimei = student('girl')\n",
    "print (HanMeimei.sex)\n",
    "\n"
   ],
   "metadata": {
    "collapsed": false,
    "pycharm": {
     "name": "#%%     __init__\n",
     "is_executing": false
    }
   }
  }
 ],
 "metadata": {
  "kernelspec": {
   "display_name": "Python 3",
   "language": "python",
   "name": "python3"
  },
  "language_info": {
   "codemirror_mode": {
    "name": "ipython",
    "version": 2
   },
   "file_extension": ".py",
   "mimetype": "text/x-python",
   "name": "python",
   "nbconvert_exporter": "python",
   "pygments_lexer": "ipython2",
   "version": "2.7.6"
  }
 },
 "nbformat": 4,
 "nbformat_minor": 0
}