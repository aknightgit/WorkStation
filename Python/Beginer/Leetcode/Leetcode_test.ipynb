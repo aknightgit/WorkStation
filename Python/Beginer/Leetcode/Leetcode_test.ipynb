{
 "cells": [
  {
   "cell_type": "code",
   "execution_count": 5,
   "metadata": {
    "collapsed": true,
    "pycharm": {
     "name": "#%% case1\n"
    }
   },
   "outputs": [
    {
     "data": {
      "text/plain": "[1, 4]"
     },
     "execution_count": 5,
     "metadata": {},
     "output_type": "execute_result"
    }
   ],
   "source": [
    "def twosum(nums,tgt):\n",
    "    for i in range(len(nums)):\n",
    "       for j in range(i+1,len(nums)):\n",
    "           if nums[i]+nums[j]==tgt:\n",
    "               return [i, j]\n",
    "\n",
    "twosum([12,23,3,44,6,5],29)"
   ]
  },
  {
   "cell_type": "code",
   "execution_count": 19,
   "outputs": [
    {
     "name": "stdout",
     "output_type": "stream",
     "text": [
      "543\n",
      "sreve\n"
     ]
    }
   ],
   "source": [
    "def reversenum(num):\n",
    "    numstr = str(num)\n",
    "    return 0-int(numstr[:0:-1]) if numstr[0]=='-' else int(numstr[::-1])\n",
    "\n",
    "print(reversenum(345))\n",
    "reversenum(-45955)\n",
    "\n",
    "print('reversesort'[5:0:-1])  ##从第5个开始倒序，不包括0\n",
    "\n",
    "\n"
   ],
   "metadata": {
    "collapsed": false,
    "pycharm": {
     "name": "#%% reverse num\n"
    }
   }
  },
  {
   "cell_type": "code",
   "execution_count": 21,
   "outputs": [
    {
     "name": "stdout",
     "output_type": "stream",
     "text": [
      "False\n"
     ]
    }
   ],
   "source": [
    "def ishuiwen(num):\n",
    "    ns = str(num)\n",
    "    return True if ns == ns[::-1] else False\n",
    "\n",
    "ishuiwen(9876789)\n",
    "print(ishuiwen(4543))\n"
   ],
   "metadata": {
    "collapsed": false,
    "pycharm": {
     "name": "#%% 判断回文\n"
    }
   }
  },
  {
   "cell_type": "code",
   "execution_count": 35,
   "outputs": [
    {
     "name": "stdout",
     "output_type": "stream",
     "text": [
      "{'h'}\n",
      "['h']\n",
      "{'i', 'o', 'e'}\n",
      "['i', 'o', 'e']\n"
     ]
    },
    {
     "data": {
      "text/plain": "'h'"
     },
     "execution_count": 35,
     "metadata": {},
     "output_type": "execute_result"
    }
   ],
   "source": [
    "def comstr(*strs):\n",
    "    # lis = zip(*strs)\n",
    "    # print(lis)\n",
    "    # nlis = map(set,lis)\n",
    "    # print(nlis)\n",
    "    # ss = list(nlis)\n",
    "    # print(ss)\n",
    "    # strlen = list(map(len,ss))\n",
    "    # print(strlen)\n",
    "    ret = ''\n",
    "    for i in list(map(set,zip(*strs))):\n",
    "        print(i)\n",
    "        i=list(i)\n",
    "        print(i)\n",
    "        if len(i)>1:\n",
    "            break\n",
    "        ret = ret + i[0]\n",
    "    return ret\n",
    "\n",
    "\n",
    "\n",
    "comstr('hello','hi','how r u')\n",
    "\n"
   ],
   "metadata": {
    "collapsed": false,
    "pycharm": {
     "name": "#%% 公共前缀\n"
    }
   }
  },
  {
   "cell_type": "code",
   "execution_count": 37,
   "outputs": [
    {
     "data": {
      "text/plain": "True"
     },
     "execution_count": 37,
     "metadata": {},
     "output_type": "execute_result"
    }
   ],
   "source": [
    "def xxk(str):\n",
    "    s=str\n",
    "    while '{}' in s or '[]' in s or '()' in s:\n",
    "        s=s.replace('[]','').replace('{}','').replace('()','')\n",
    "    return s == ''\n",
    "\n",
    "xxk('([]){}')\n",
    "\n"
   ],
   "metadata": {
    "collapsed": false,
    "pycharm": {
     "name": "#%% 消消看\n"
    }
   }
  },
  {
   "cell_type": "code",
   "execution_count": 38,
   "outputs": [
    {
     "name": "stdout",
     "output_type": "stream",
     "text": [
      "[4, 5, 3, 4, 6, 7, 5, 35, 4, 63]\n",
      "[5, 3, 4, 6, 7, 5, 35, 4, 63]\n",
      "[5, 3, 6, 7, 5, 35, 4, 63]\n",
      "[5, 3, 6, 7, 5, 35, 63]\n"
     ]
    },
    {
     "data": {
      "text/plain": "7"
     },
     "execution_count": 38,
     "metadata": {},
     "output_type": "execute_result"
    }
   ],
   "source": [
    "def removex(l,x):\n",
    "    try:\n",
    "        while True:\n",
    "            print(l)\n",
    "            l.remove(x)\n",
    "    except:\n",
    "        return len(l)\n",
    "\n",
    "removex([4,5,3,4,6,7,5,35,4,63],4)\n"
   ],
   "metadata": {
    "collapsed": false,
    "pycharm": {
     "name": "#%% dedup\n"
    }
   }
  },
  {
   "cell_type": "code",
   "execution_count": 40,
   "outputs": [
    {
     "data": {
      "text/plain": "-1"
     },
     "execution_count": 40,
     "metadata": {},
     "output_type": "execute_result"
    }
   ],
   "source": [
    "def offset(str,sub):\n",
    "    try:\n",
    "        off=str.index(sub)\n",
    "        return off\n",
    "    except:\n",
    "        return -1\n",
    "offset('howoldareyou','dare')\n",
    "offset('howareyou','me')"
   ],
   "metadata": {
    "collapsed": false,
    "pycharm": {
     "name": "#%%\n"
    }
   }
  },
  {
   "cell_type": "code",
   "execution_count": 44,
   "outputs": [
    {
     "name": "stdout",
     "output_type": "stream",
     "text": [
      "[3, 6, 8, 0]\n",
      "{8, 0, 3, 6}\n",
      "[8, 0, 3, 6]\n"
     ]
    },
    {
     "data": {
      "text/plain": "1"
     },
     "execution_count": 44,
     "metadata": {},
     "output_type": "execute_result"
    }
   ],
   "source": [
    "class Solution:\n",
    "    def searchInsert(self, nums, target):\n",
    "        nums.append(target)\n",
    "        # print(nums)\n",
    "        # print(set(nums))\n",
    "        new = list(set(nums))\n",
    "        print(new)\n",
    "        return(new.index(target))\n",
    "\n",
    "s=Solution()\n",
    "s.searchInsert([3,6,8],0)"
   ],
   "metadata": {
    "collapsed": false,
    "pycharm": {
     "name": "#%%\n"
    }
   }
  },
  {
   "cell_type": "code",
   "execution_count": 49,
   "outputs": [
    {
     "data": {
      "text/plain": "8"
     },
     "execution_count": 49,
     "metadata": {},
     "output_type": "execute_result"
    }
   ],
   "source": [
    "def max_sub(nums):\n",
    "    sum = 0\n",
    "    maxn = nums[0]\n",
    "    for n in nums:\n",
    "        sum = sum + n\n",
    "        if sum > maxn:\n",
    "            maxn = sum\n",
    "        if sum <0:   ## 循环开始的几位数字和，如果<0，负贡献，抛弃\n",
    "            sum=0\n",
    "    return(maxn)\n",
    "\n",
    "max_sub([-4,5,-3,2,-3,2,-2,7,-4])\n",
    "\n"
   ],
   "metadata": {
    "collapsed": false,
    "pycharm": {
     "name": "#%%  max_sub\n"
    }
   }
  },
  {
   "cell_type": "code",
   "execution_count": 7,
   "outputs": [
    {
     "data": {
      "text/plain": "True"
     },
     "execution_count": 7,
     "metadata": {},
     "output_type": "execute_result"
    }
   ],
   "source": [
    "def searchMatrix(matrix, target):\n",
    "    lis = [j for i in matrix for j in i]\n",
    "    return target in lis\n",
    "\n",
    "searchMatrix([\n",
    "    [1,2,3,4],\n",
    "    [6,7,8,9],\n",
    "    [11,22,44,55]\n",
    "],4)"
   ],
   "metadata": {
    "collapsed": false,
    "pycharm": {
     "name": "#%%\n"
    }
   }
  },
  {
   "cell_type": "code",
   "execution_count": null,
   "outputs": [],
   "source": [
    "def lengthOfLastWord(s):\n",
    "    lis=s.split(' ')\n",
    "    try:\n",
    "            lis.remove('')\n",
    "        except:\n",
    "            lis=lis\n",
    "    print(lis)\n",
    "    return len(lis[-1]) if len(lis)>0 else 0\n",
    "\n",
    "lengthOfLastWord(' a ')"
   ],
   "metadata": {
    "collapsed": false,
    "pycharm": {
     "name": "#%%\n",
     "is_executing": true
    }
   }
  },
  {
   "cell_type": "code",
   "execution_count": 19,
   "outputs": [
    {
     "name": "stdout",
     "output_type": "stream",
     "text": [
      "['1', '1', '0', '0'] ['1', '1', '0', '1', '0']\n",
      "2\n",
      "3\n",
      "1\n",
      "1\n",
      "0\n",
      "01110\n"
     ]
    },
    {
     "data": {
      "text/plain": "'01110'"
     },
     "execution_count": 19,
     "metadata": {},
     "output_type": "execute_result"
    }
   ],
   "source": [
    "def addbin(a,b):\n",
    "    ra=list(a)\n",
    "    ra.reverse()\n",
    "    rb=list(b)\n",
    "    rb.reverse()\n",
    "    print(ra,rb)\n",
    "    lenmax = max(len(ra),len(rb))\n",
    "    needadd = 0\n",
    "    new = ''\n",
    "    for i in range(lenmax):\n",
    "        try:\n",
    "            ra[i]\n",
    "        except:\n",
    "            ra.insert(i,0)\n",
    "        try:\n",
    "            rb[i]\n",
    "        except:\n",
    "            rb.insert(i,0)\n",
    "        print(int(ra[i])+int(rb[i])+needadd)\n",
    "        new_i = int(ra[i])+int(rb[i])+needadd-2 if int(ra[i])+int(rb[i])+needadd>=2 else int(ra[i])+int(rb[i])+needadd\n",
    "        needadd = 1 if int(ra[i])+int(rb[i])+needadd>=2 else 0\n",
    "        new +=(str(new_i))\n",
    "    print(new)\n",
    "    return (new[::-1]) if needadd==0 else '1'+new[::-1]\n",
    "\n",
    "addbin('0011','01011')\n"
   ],
   "metadata": {
    "collapsed": false,
    "pycharm": {
     "name": "#%% 2进制加法\n"
    }
   }
  },
  {
   "cell_type": "code",
   "execution_count": 23,
   "outputs": [
    {
     "name": "stdout",
     "output_type": "stream",
     "text": [
      "1\n",
      "2\n",
      "Fizz\n",
      "4\n",
      "Buzz\n",
      "Fizz\n",
      "7\n",
      "8\n",
      "Fizz\n",
      "Buzz\n",
      "11\n",
      "Fizz\n",
      "13\n",
      "14\n",
      "FizzBuzz\n"
     ]
    }
   ],
   "source": [
    "def fizzBuzz(n):\n",
    "    # Write your code here\n",
    "    for i in range(n):\n",
    "        a = i + 1\n",
    "        if a % 3 ==0 and a % 5 ==0:\n",
    "            ret = 'FizzBuzz'\n",
    "        elif a % 3 ==0 and a % 5 >0:\n",
    "            ret = 'Fizz'\n",
    "        elif a % 3 >0 and a % 5 ==0:\n",
    "            ret = 'Buzz'\n",
    "        else:\n",
    "            ret = a\n",
    "        print(ret)\n",
    "\n",
    "if __name__ == '__main__':\n",
    "    n = int(input().strip())\n",
    "\n",
    "    fizzBuzz(n)"
   ],
   "metadata": {
    "collapsed": false,
    "pycharm": {
     "name": "#%%\n"
    }
   }
  },
  {
   "cell_type": "code",
   "execution_count": 29,
   "outputs": [
    {
     "name": "stdout",
     "output_type": "stream",
     "text": [
      "6\n"
     ]
    }
   ],
   "source": [
    "space = [1, 2, 3, 4, 5,6,7,6,5,4,3,2,1]\n",
    "x=3\n",
    "ret = 0\n",
    "for i in range(len(space)-x+1):\n",
    "    sub = space[i:i+x]\n",
    "    sub_min = min(sub)\n",
    "    ret = sub_min if sub_min>=ret else ret\n",
    "\n",
    "print(ret)\n",
    "\n"
   ],
   "metadata": {
    "collapsed": false,
    "pycharm": {
     "name": "#%%\n"
    }
   }
  }
 ],
 "metadata": {
  "kernelspec": {
   "display_name": "Python 3",
   "language": "python",
   "name": "python3"
  },
  "language_info": {
   "codemirror_mode": {
    "name": "ipython",
    "version": 2
   },
   "file_extension": ".py",
   "mimetype": "text/x-python",
   "name": "python",
   "nbconvert_exporter": "python",
   "pygments_lexer": "ipython2",
   "version": "2.7.6"
  }
 },
 "nbformat": 4,
 "nbformat_minor": 0
}