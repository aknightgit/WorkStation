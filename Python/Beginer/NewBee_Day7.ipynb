{
 "cells": [
  {
   "cell_type": "code",
   "execution_count": 1,
   "metadata": {
    "collapsed": true,
    "pycharm": {
     "name": "#%% 关于 循环对象\n"
    }
   },
   "outputs": [
    {
     "name": "stdout",
     "output_type": "stream",
     "text": [
      "[1107/100410.718:ERROR:registration_protocol_win.cc(56)] CreateFile: 系统找不到指定的文件。 (0x2)\n",
      "\n",
      "(1, 2)\n",
      "(3, 4)\n",
      "(5, 6)\n"
     ]
    }
   ],
   "source": [
    "# 循环对象，即自带有.__next__()方法的一类对象，循环结构 可以调用循环对象\n",
    "\n",
    "f = open('D:/debug.log','r')    #f 就是个循环对象\n",
    "print(f.__next__())\n",
    "\n",
    "a = (1,3,5)\n",
    "b = (2,4,6)\n",
    "z = zip(a,b)\n",
    "z                       #直接输入对象，可以看到对象所在物理位置\n",
    "for i in range(3):\n",
    "    print(z.__next__())\n"
   ]
  },
  {
   "cell_type": "code",
   "execution_count": 36,
   "outputs": [
    {
     "name": "stdout",
     "text": [
      "1\n1\n2\n3\n0\n1\n2\n3\n4\n"
     ],
     "output_type": "stream"
    }
   ],
   "source": [
    "# yield 和return 的区别： \n",
    "# 1. yield的函数，下次运行，从上次暂停的地方继续\n",
    "# 2. def中可以包含多个yield\n",
    "\n",
    "def gen():\n",
    "    yield 1\n",
    "    yield 1\n",
    "    yield 2\n",
    "    yield 3\n",
    "gen() \n",
    "for i in gen():         #生成器 本身就是个循环对象\n",
    "    print(i)\n",
    "\n",
    "#生成器表达式\n",
    "G = (x for x in range(5))       #Generator object\n",
    "G\n",
    "for i in G:                     #生成器对象\n",
    "    print(i)"
   ],
   "metadata": {
    "collapsed": false,
    "pycharm": {
     "name": "#%%  生成器 yield\n",
     "is_executing": false
    }
   }
  },
  {
   "cell_type": "code",
   "execution_count": 2,
   "outputs": [
    {
     "data": {
      "text/plain": "10"
     },
     "execution_count": 2,
     "metadata": {},
     "output_type": "execute_result"
    }
   ],
   "source": [
    "## 函数名，可以动态，add or sub，这个牛啊\n",
    "from operator import (add,sub)\n",
    "\n",
    "def add_or_sub(a,b,opr):\n",
    "    return (add if opr=='+' else sub)(a,b)\n",
    "\n",
    "add_or_sub(4,6,'+')\n"
   ],
   "metadata": {
    "collapsed": false,
    "pycharm": {
     "name": "#%%\n"
    }
   }
  },
  {
   "cell_type": "markdown",
   "source": [],
   "metadata": {
    "collapsed": false
   }
  },
  {
   "cell_type": "code",
   "execution_count": 11,
   "outputs": [
    {
     "name": "stdout",
     "output_type": "stream",
     "text": [
      "3\n"
     ]
    }
   ],
   "source": [],
   "metadata": {
    "collapsed": false,
    "pycharm": {
     "name": "#%%\n"
    }
   }
  }
 ],
 "metadata": {
  "kernelspec": {
   "display_name": "Python 3",
   "language": "python",
   "name": "python3"
  },
  "language_info": {
   "codemirror_mode": {
    "name": "ipython",
    "version": 2
   },
   "file_extension": ".py",
   "mimetype": "text/x-python",
   "name": "python",
   "nbconvert_exporter": "python",
   "pygments_lexer": "ipython2",
   "version": "2.7.6"
  }
 },
 "nbformat": 4,
 "nbformat_minor": 0
}