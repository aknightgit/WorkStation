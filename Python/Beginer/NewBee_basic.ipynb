{
 "cells": [
  {
   "cell_type": "code",
   "execution_count": 1,
   "metadata": {
    "collapsed": false
   },
   "outputs": [
    {
     "name": "stdout",
     "output_type": "stream",
     "text": [
      "The Zen of Python, by Tim Peters\n",
      "\n",
      "Beautiful is better than ugly.\n",
      "Explicit is better than implicit.\n",
      "Simple is better than complex.\n",
      "Complex is better than complicated.\n",
      "Flat is better than nested.\n",
      "Sparse is better than dense.\n",
      "Readability counts.\n",
      "Special cases aren't special enough to break the rules.\n",
      "Although practicality beats purity.\n",
      "Errors should never pass silently.\n",
      "Unless explicitly silenced.\n",
      "In the face of ambiguity, refuse the temptation to guess.\n",
      "There should be one-- and preferably only one --obvious way to do it.\n",
      "Although that way may not be obvious at first unless you're Dutch.\n",
      "Now is better than never.\n",
      "Although never is often better than *right* now.\n",
      "If the implementation is hard to explain, it's a bad idea.\n",
      "If the implementation is easy to explain, it may be a good idea.\n",
      "Namespaces are one honking great idea -- let's do more of those!\n"
     ]
    }
   ],
   "source": [
    "import this"
   ]
  },
  {
   "cell_type": "code",
   "execution_count": 3,
   "metadata": {},
   "outputs": [
    {
     "name": "stdout",
     "output_type": "stream",
     "text": [
      "helloworld\n"
     ]
    }
   ],
   "source": [
    "print(\"helloworld\")\n"
   ]
  },
  {
   "cell_type": "code",
   "execution_count": 2,
   "metadata": {},
   "outputs": [
    {
     "name": "stdout",
     "output_type": "stream",
     "text": [
      "\n",
      "what \n",
      "are you\n",
      "nong sha lie\n",
      "\n"
     ]
    }
   ],
   "source": [
    "print('''\n",
    "what\n",
    "are you\n",
    "nong sha lie\n",
    "''')\n"
   ]
  },
  {
   "cell_type": "code",
   "execution_count": 4,
   "metadata": {},
   "outputs": [
    {
     "name": "stdout",
     "output_type": "stream",
     "text": [
      "0 1 1 2 3 5 8 13 21 34 55 89 144 233 377 610 987 "
     ]
    }
   ],
   "source": [
    "# Python 3: Fibonacci series up to n\n",
    "def fib(n):\n",
    "    a, b = 0, 1\n",
    "    while a < n:\n",
    "        print(a, end=' ')\n",
    "        a, b = b, a+b\n",
    "fib(1000)\n",
    "\n"
   ]
  },
  {
   "cell_type": "code",
   "execution_count": 4,
   "metadata": {
    "pycharm": {
     "is_executing": false
    }
   },
   "outputs": [
    {
     "name": "stdout",
     "text": [
      "1574675411.9403882\ntime.struct_time(tm_year=2019, tm_mon=11, tm_mday=25, tm_hour=17, tm_min=50, tm_sec=11, tm_wday=0, tm_yday=329, tm_isdst=0)\nMon Nov 25 17:50:11 2019\n2019-11-25 17:50:11\nMon Nov 25 17:50:11 2019\n1459175064.0\n"
     ],
     "output_type": "stream"
    }
   ],
   "source": [
    "\n",
    "# -*- coding:utf-8 -*-\n",
    "import time\n",
    "#当前时间\n",
    "print (time.time())\n",
    "#时间戳形式\n",
    "print (time.localtime(time.time()))\n",
    "#简单可读形式\n",
    "print (time.asctime( time.localtime(time.time()) ))\n",
    "# 格式化成2016-03-20 11:45:39形式\n",
    "print (time.strftime(\"%Y-%m-%d %H:%M:%S\", time.localtime()))\n",
    "# 格式化成Sat Mar 28 22:24:24 2016形式\n",
    "print (time.strftime(\"%a %b %d %H:%M:%S %Y\", time.localtime()))\n",
    "# 将格式字符串转换为时间戳\n",
    "a = \"Sat Mar 28 22:24:24 2016\"\n",
    "print (time.mktime(time.strptime(a,\"%a %b %d %H:%M:%S %Y\")))"
   ]
  },
  {
   "cell_type": "code",
   "execution_count": 19,
   "metadata": {
    "collapsed": true
   },
   "outputs": [
    {
     "name": "stdout",
     "output_type": "stream",
     "text": [
      "479\n7 days, 0:00:00\n2017-09-11 17:29:02.637001\n2017-09-11 00:00:00\ntime.struct_time(tm_year=2016, tm_mon=6, tm_mday=22, tm_hour=0, tm_min=0, tm_sec=0, tm_wday=2, tm_yday=174, tm_isdst=-1)\n2017-09-11\n"
     ]
    },
    {
     "ename": "TypeError",
     "evalue": "Tuple or struct_time argument required",
     "traceback": [
      "\u001B[0;31m---------------------------------------------------------------------------\u001B[0m",
      "\u001B[0;31mTypeError\u001B[0m                                 Traceback (most recent call last)",
      "\u001B[0;32m<ipython-input-19-9cc561c23038>\u001B[0m in \u001B[0;36m<module>\u001B[0;34m()\u001B[0m\n\u001B[1;32m     45\u001B[0m \u001B[0mtoday\u001B[0m \u001B[0;34m=\u001B[0m \u001B[0mdt\u001B[0m\u001B[0;34m.\u001B[0m\u001B[0mdate\u001B[0m\u001B[0;34m.\u001B[0m\u001B[0mtoday\u001B[0m\u001B[0;34m(\u001B[0m\u001B[0;34m)\u001B[0m\u001B[0;34m\u001B[0m\u001B[0m\n\u001B[1;32m     46\u001B[0m \u001B[0mprint\u001B[0m\u001B[0;34m(\u001B[0m\u001B[0mtoday\u001B[0m\u001B[0;34m)\u001B[0m\u001B[0;34m\u001B[0m\u001B[0m\n\u001B[0;32m---> 47\u001B[0;31m \u001B[0mtime_string\u001B[0m \u001B[0;34m=\u001B[0m \u001B[0mtime\u001B[0m\u001B[0;34m.\u001B[0m\u001B[0mstrftime\u001B[0m\u001B[0;34m(\u001B[0m\u001B[0;34m\"%Y-%m-%d\"\u001B[0m\u001B[0;34m,\u001B[0m \u001B[0mdt\u001B[0m\u001B[0;34m.\u001B[0m\u001B[0mdate\u001B[0m\u001B[0;34m.\u001B[0m\u001B[0mtoday\u001B[0m\u001B[0;34m(\u001B[0m\u001B[0;34m)\u001B[0m\u001B[0;34m)\u001B[0m \u001B[0;31m# return like \"2016-06-22\"\u001B[0m\u001B[0;34m\u001B[0m\u001B[0m\n\u001B[0m\u001B[1;32m     48\u001B[0m \u001B[0mprint\u001B[0m\u001B[0;34m(\u001B[0m\u001B[0mtime_string\u001B[0m\u001B[0;34m)\u001B[0m\u001B[0;34m\u001B[0m\u001B[0m\n\u001B[1;32m     49\u001B[0m \u001B[0;34m\u001B[0m\u001B[0m\n",
      "\u001B[0;31mTypeError\u001B[0m: Tuple or struct_time argument required"
     ],
     "output_type": "error"
    }
   ],
   "source": [
    "# 1. 计算给出两个时间之间的时间差\n",
    "\n",
    "import numpy\n",
    "import datetime as dt\n",
    "import time\n",
    "\n",
    "# current time\n",
    "cur_time = dt.date.today()\n",
    "# one day\n",
    "pre_time = dt.date(2016, 5, 20) # eg: 2016.5.20\n",
    "delta = cur_time - pre_time\n",
    "# if you want to get discrepancy in days\n",
    "print (delta.days)\n",
    "# if you want to get discrepancy in hours\n",
    "# print (delta.hours)\n",
    "# and so on\n",
    "\n",
    "# 2. 获取n天前的时间\n",
    "# previous n days\n",
    "pre_time = dt.timedelta(days=7)\n",
    "print (pre_time)\n",
    "\n",
    "# 3. 将给定的时间精确到天或者其他单位\n",
    "cur_time = dt.datetime.now()\n",
    "print(cur_time)\n",
    "# get day of current time\n",
    "cur_day = cur_time.replace(hour=0, minute=0, second=0,microsecond=0)\n",
    "print(cur_day)\n",
    "\n",
    "# 4. 获取一连串的时间序列（返回list）\n",
    "cur_time = dt.datetime.today()\n",
    "datelist = [cur_time - dt.timedelta(days=x) for x in range(0, 100)]\n",
    "# print (datelist)\n",
    "# 或者\n",
    "import pandas as pd\n",
    "datelist = pd.date_range(pd.datetime.today(), periods=100).tolist()\n",
    "# print (datelist)\n",
    " \n",
    "# 5. 将时间字符串转化为datetime类型\n",
    "date_format = \"%Y-%m-%d\" # year-month-day\n",
    "time_str = time.strptime('2016-06-22', date_format)\n",
    "print(time_str)\n",
    "\n",
    "# 6. 将时间类型转化为字符串类型\n",
    "today = dt.date.today()\n",
    "print(today)\n",
    "time_string = time.strftime(\"%Y-%m-%d\", dt.date.today()) # return like \"2016-06-22\"\n",
    "print(time_string)\n",
    "\n",
    "print (dt.date.today())\n"
   ]
  },
  {
   "cell_type": "code",
   "execution_count": 6,
   "metadata": {},
   "outputs": [],
   "source": []
  },
  {
   "cell_type": "code",
   "execution_count": 7,
   "metadata": {},
   "outputs": [],
   "source": []
  },
  {
   "cell_type": "code",
   "execution_count": 7,
   "metadata": {},
   "outputs": [],
   "source": []
  },
  {
   "cell_type": "code",
   "execution_count": null,
   "metadata": {},
   "outputs": [],
   "source": []
  },
  {
   "cell_type": "code",
   "execution_count": null,
   "metadata": {},
   "outputs": [],
   "source": []
  }
 ],
 "metadata": {
  "kernelspec": {
   "name": "python3",
   "language": "python",
   "display_name": "Python 3"
  },
  "language_info": {
   "codemirror_mode": {
    "name": "ipython",
    "version": 2
   },
   "file_extension": ".py",
   "mimetype": "text/x-python",
   "name": "python",
   "nbconvert_exporter": "python",
   "pygments_lexer": "ipython2",
   "version": "2.7.6"
  }
 },
 "nbformat": 4,
 "nbformat_minor": 0
}