{
 "cells": [
  {
   "cell_type": "code",
   "execution_count": 83,
   "metadata": {
    "collapsed": true,
    "pycharm": {
     "is_executing": false
    }
   },
   "outputs": [
    {
     "name": "stdout",
     "text": [
      "2\n5\n['a', 'c', 'k']\n"
     ],
     "output_type": "stream"
    }
   ],
   "source": [
    "l_a = (4,5,5,6,1)\n",
    "print(l_a.count(5))     #只能寻找计数     \n",
    "print(len(l_a))         #len是保留关键字\n",
    "print(sorted(['k','c','a']))      #只能sort同类型\n"
   ]
  },
  {
   "cell_type": "code",
   "execution_count": 31,
   "outputs": [
    {
     "name": "stdout",
     "text": [
      "{'age': 35, 'sex': 'male', 'height': 178, 'AGE': 'key不能重复，区分大小写', 2: 'testing'}\n5\n<class 'dict'>\n['__class__', '__contains__', '__delattr__', '__delitem__', '__dir__', '__doc__', '__eq__', '__format__', '__ge__', '__getattribute__', '__getitem__', '__gt__', '__hash__', '__init__', '__init_subclass__', '__iter__', '__le__', '__len__', '__lt__', '__ne__', '__new__', '__reduce__', '__reduce_ex__', '__repr__', '__reversed__', '__setattr__', '__setitem__', '__sizeof__', '__str__', '__subclasshook__', 'clear', 'copy', 'fromkeys', 'get', 'items', 'keys', 'pop', 'popitem', 'setdefault', 'update', 'values']\ndict_keys(['age', 'sex', 'height', 'AGE', 2]) dict_values([35, 'male', 178, 'key不能重复，区分大小写', 'testing'])\npopitem 踢出最后一个键值对： (2, 'testing')\npop根据key值踢出相应value: 35\nAGE -> key不能重复，区分大小写\nheight -> 178\nsex -> male\n{'sex': 'male', 'height': 178}\n"
     ],
     "output_type": "stream"
    }
   ],
   "source": [
    "ak = {'age':35,'sex':'male','height':178,'AGE':'key不能重复，区分大小写',2:'testing'}       #常数就可以当key，无论数字或者str\n",
    "print(ak)\n",
    "print(len(ak))                      #键值对个数\n",
    "print(type(ak))                     #class dict\n",
    "print(dir((ak)))                    #dir都可以罗列出内部的attr和method\n",
    "print(ak.keys(),ak.values())\n",
    "b=ak.popitem()\n",
    "print('popitem 踢出最后一个键值对：',b)\n",
    "c=ak.pop('age')\n",
    "print('pop根据key值踢出相应value:',c)\n",
    "for i in sorted(ak.keys()):\n",
    "    print(i,'->',ak[i])\n",
    "del ak['AGE']                       #del也是删除元素的关键字\n",
    "print(ak)"
   ],
   "metadata": {
    "collapsed": false,
    "pycharm": {
     "name": "#%%     字典\n",
     "is_executing": false
    }
   }
  },
  {
   "cell_type": "code",
   "execution_count": 85,
   "outputs": [
    {
     "name": "stdout",
     "text": [
      "可以直接用open().read()\ntom,12,86\nLee,15,99\nLucy,11,58\nJoseph,19,56\n\nwh e l l ooh e l l orh e l l olh e l l od\n"
     ],
     "output_type": "stream"
    }
   ],
   "source": [
    "# 引号 双引号都可以; \n",
    "ak = {'age':'35','sex':'male','AGE':'key不能重复，区分大小写'} \n",
    "f=open('D:/Atest.txt',\"w\")\n",
    "for i in sorted(ak.keys()):\n",
    "    f.write((ak[i]))\n",
    "f.close()\n",
    "\n",
    "f=open('D:\\Atest2.txt',\"w\")         #斜杠 反斜杠 单引号 双引号 都可以\n",
    "for i in sorted(ak.keys()):\n",
    "    f.write((ak[i]))\n",
    "f.close()\n",
    "\n",
    "f=open(\"D:\\Atest3.txt\",\"w+\")        #w+和w有啥区别？\n",
    "for i in sorted(ak.keys()):\n",
    "    f.write((ak[i]))\n",
    "f.close()\n",
    "\n",
    "f=open(\"D:\\Atest3.txt\",\"a\")         #a = append\n",
    "f.writelines(\"shi\\n mamm\\n hahahaha\")       #writelines  和write  \n",
    "f.close()\n",
    "\n",
    "print('可以直接用open().read()')\n",
    "open(\"D:\\Atest3.txt\",\"r\").read() \n",
    "\n",
    "# 这个牛逼了，居然还可以类似SQL的CTE写法\n",
    "\n",
    "\n",
    "list_c=['tom,12,86','Lee,15,99','Lucy,11,58','Joseph,19,56']\n",
    "strs=''\n",
    "with (open('D:/record.txt','w')) as f:\n",
    "    for s in list_c:\n",
    "        # print(''.join(s).join('\\n'))\n",
    "        # strs+=''.join(s)+'\\n'\n",
    "        strs += s+'\\n'\n",
    "    f.write(strs)                       #整个str写多行，就不需要writelines了？\n",
    "with (open(\"D:/record.txt\")) as f:\n",
    "    print(f.read())\n",
    "\n",
    "#join和SQL的不一样 \n",
    "print(' '.join('hello').join('world'))      #原来是用前面字符填充进后面的每一格里面去\n",
    "lines = ['line1', 'line2']\n",
    "with open('D:/record.txt', 'w') as f:\n",
    "    f.write('\\n'.join(lines))\n",
    "with open('D:/record.txt', 'w') as f:\n",
    "    f.writelines(\"%s\\n\" % l for l in lines)     #writelines可以支持循环，write只能str"
   ],
   "metadata": {
    "collapsed": false,
    "pycharm": {
     "name": "#%%     文件 File handle\n",
     "is_executing": false
    }
   }
  }
 ],
 "metadata": {
  "kernelspec": {
   "display_name": "Python 3",
   "language": "python",
   "name": "python3"
  },
  "language_info": {
   "codemirror_mode": {
    "name": "ipython",
    "version": 2
   },
   "file_extension": ".py",
   "mimetype": "text/x-python",
   "name": "python",
   "nbconvert_exporter": "python",
   "pygments_lexer": "ipython2",
   "version": "2.7.6"
  },
  "pycharm": {
   "stem_cell": {
    "cell_type": "raw",
    "source": [],
    "metadata": {
     "collapsed": false
    }
   }
  }
 },
 "nbformat": 4,
 "nbformat_minor": 0
}