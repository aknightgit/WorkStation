{
 "cells": [
  {
   "cell_type": "code",
   "execution_count": 1,
   "metadata": {
    "collapsed": true,
    "pycharm": {
     "name": "#%%   关于print\n"
    }
   },
   "outputs": [
    {
     "name": "stdout",
     "output_type": "stream",
     "text": [
      "0：1：2：3：4：5：6：7：8：9：i am 20 years old\n",
      "i am 20 years old\n",
      "i am 20 years old\n",
      "ak is 20 years old\n",
      "i am 20 years old\n",
      "lili is 20 years old\n",
      "you look what look, sucker\n",
      "no seq then default\n",
      "student: ab, age: 50\n"
     ]
    }
   ],
   "source": [
    "for i in range(10):\n",
    "    print(i,end='：')        #可以定义end字符\n",
    "\n",
    "age = 20\n",
    "print('i am '+str(age)+' years old')        #需要转换格式\n",
    "print('i am',age,'years old')               #print元组，逗号print，自带空格\n",
    "print('i am %d years old' %age)             #格式化输出\n",
    "print('%s is %d years old' %  ('ak',age))   #格式化输出，多个元素，  % -/+对齐\n",
    "print(\"i am {0} years old\".format(age))     #注意是调用format方法，注意双引号！\n",
    "print(\"{1} is {0} years old\".format(age,'lili')) \n",
    "\n",
    "print(\"you {0} what {0}, {1}\".format('look','sucker'))\n",
    "print(\"{} {} {} {}\".format('no','seq','then','default','多出来的也没有用'))\n",
    "\n",
    "# k_v = ('name','value')\n",
    "print(\"student: {name}, age: {value}\".format(name='ab',value=50))   #参数的形式传入"
   ]
  },
  {
   "cell_type": "code",
   "execution_count": 5,
   "outputs": [
    {
     "name": "stdout",
     "output_type": "stream",
     "text": [
      "['__add__', '__class__', '__contains__', '__delattr__', '__delitem__', '__dir__', '__doc__', '__eq__', '__format__', '__ge__', '__getattribute__', '__getitem__', '__gt__', '__hash__', '__iadd__', '__imul__', '__init__', '__init_subclass__', '__iter__', '__le__', '__len__', '__lt__', '__mul__', '__ne__', '__new__', '__reduce__', '__reduce_ex__', '__repr__', '__reversed__', '__rmul__', '__setattr__', '__setitem__', '__sizeof__', '__str__', '__subclasshook__', 'append', 'clear', 'copy', 'count', 'extend', 'index', 'insert', 'pop', 'remove', 'reverse', 'sort']\n",
      "4\n",
      "-1\n",
      "2\n",
      "None\n",
      "[12, 43, 54, 3, 3, 'man', 12, 2, 4, 5, 6, 7, 'girl']\n",
      "girl\n",
      "[12, 43, 54, 3, 3, 'man', 12, 2, 4, 5, 6, 7]\n",
      "[12, 43, 54, 3, 3, 'man', 12, 2, 4, 5, 6, 7]\n",
      "now 11 removing 7\n",
      "now 10 removing 6\n",
      "now 9 removing 5\n",
      "now 8 removing 4\n",
      "now 7 removing 2\n",
      "now 6 removing 12\n",
      "now 5 removing man\n",
      "now 4 removing 3\n",
      "now 3 removing 3\n",
      "now 2 removing 54\n",
      "now 1 removing 43\n",
      "now 0 removing 12\n",
      "[1, 1, 2, 3, 4, 5]\n"
     ]
    }
   ],
   "source": [
    "print(dir(list))        #list所有attr和method\n",
    "# print(help(list))\n",
    "\n",
    "list_a = [12,43,54,3,'man',3,'man',12,2,4,5,6,7,'girl']\n",
    "print (list_a.index('man'))     #第一个'man'的下标,找不到报错\n",
    "print(\",\".join(str(list_a)).find('man'))  ##str才有find方法\n",
    "print(list_a.count('man'))      #'man'的count\n",
    "# print(list_a.sort)            #sort必须要同类型\n",
    "print(list_a.remove('man'))     #remove了第一个'man'\n",
    "print(list_a)\n",
    "print(list_a.pop())             #剪切了最后一个元素，返回\n",
    "print(list_a)\n",
    "print(list_a[:])                #引用整个\n",
    "\n",
    "while len(list_a)>0:\n",
    "    ele = list_a.pop()\n",
    "    print('now',len(list_a),'removing',ele)\n",
    "    \n",
    "print([1,1,2]+[3,4,5])      #这个很坑啊，是连接啊，不是相加\n"
   ],
   "metadata": {
    "collapsed": false,
    "pycharm": {
     "name": "#%%     list的操作\n"
    }
   }
  },
  {
   "cell_type": "code",
   "execution_count": 6,
   "outputs": [
    {
     "name": "stdout",
     "output_type": "stream",
     "text": [
      "[1, 2, 4]\n",
      "[1, 2, 5]\n"
     ]
    }
   ],
   "source": [
    "# 不懂，为啥a b的取值会不一样\n",
    "class superList(list):\n",
    "    def __sub__(self, b):           #这个妖兽，__sub__就专门特指-操作，哪里规定的额？！！\n",
    "        a = self[:]     # 这里，self是supeList的对象。由于superList继承于list，它可以利用和list[:]相同的引用方法来表示整个对象。\n",
    "        # print('a:',a)\n",
    "        b = b[:]        \n",
    "        # print('b:',b)\n",
    "        while len(b) > 0:\n",
    "            element_b = b.pop()\n",
    "            while element_b in a:                  #可以用in哦 可以用in哦\n",
    "                a.remove(element_b)\n",
    "        return a\n",
    "print(superList([1,2,4]))\n",
    "print(superList([1,2,3,3,4,5]) - superList([3,4]))      ##remove只能干掉第一个出现的\n",
    "# print(superList([1,2,3]) + superList([3,4]))\n",
    "# print(superList([1,2,3]) + [3,4])\n",
    "# print(superList([1,2,3]) * superList([3,4]))\n"
   ],
   "metadata": {
    "collapsed": false,
    "pycharm": {
     "name": "#%%    list中特殊方法的定义\n"
    }
   }
  }
 ],
 "metadata": {
  "kernelspec": {
   "display_name": "Python 3",
   "language": "python",
   "name": "python3"
  },
  "language_info": {
   "codemirror_mode": {
    "name": "ipython",
    "version": 2
   },
   "file_extension": ".py",
   "mimetype": "text/x-python",
   "name": "python",
   "nbconvert_exporter": "python",
   "pygments_lexer": "ipython2",
   "version": "2.7.6"
  }
 },
 "nbformat": 4,
 "nbformat_minor": 0
}